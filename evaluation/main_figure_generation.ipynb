{
 "cells": [
  {
   "cell_type": "markdown",
   "metadata": {},
   "source": [
    "### Importing packages and data_utils.py"
   ]
  },
  {
   "cell_type": "code",
   "execution_count": 1,
   "metadata": {},
   "outputs": [
    {
     "name": "stderr",
     "output_type": "stream",
     "text": [
      "2023-08-18 01:23:35.082885: I tensorflow/core/platform/cpu_feature_guard.cc:182] This TensorFlow binary is optimized to use available CPU instructions in performance-critical operations.\n",
      "To enable the following instructions: AVX2 FMA, in other operations, rebuild TensorFlow with the appropriate compiler flags.\n",
      "2023-08-18 01:23:36.060440: W tensorflow/compiler/tf2tensorrt/utils/py_utils.cc:38] TF-TRT Warning: Could not find TensorRT\n"
     ]
    }
   ],
   "source": [
    "from climsim_utils.data_utils import *"
   ]
  },
  {
   "cell_type": "code",
   "execution_count": 2,
   "metadata": {},
   "outputs": [
    {
     "name": "stdout",
     "output_type": "stream",
     "text": [
      "/ocean/projects/atm200007p/jlin96/neurips_proj/ClimSim_release/evaluation\n"
     ]
    }
   ],
   "source": [
    "!pwd"
   ]
  },
  {
   "cell_type": "markdown",
   "metadata": {},
   "source": [
    "### Load in inputs and outputs for ground truth"
   ]
  },
  {
   "cell_type": "code",
   "execution_count": 3,
   "metadata": {},
   "outputs": [],
   "source": [
    "# Replace these paths with corresponding paths on your machine\n",
    "input_path = '/ocean/projects/atm200007p/jlin96/neurips_proj/e3sm_train_npy/val_input_stride6.npy'\n",
    "target_path = '/ocean/projects/atm200007p/jlin96/neurips_proj/e3sm_train_npy/val_target_stride6.npy'"
   ]
  },
  {
   "cell_type": "code",
   "execution_count": 4,
   "metadata": {},
   "outputs": [],
   "source": [
    "x_true = np.load(input_path).astype(np.float64)\n",
    "y_true = np.load(target_path).astype(np.float64)"
   ]
  },
  {
   "cell_type": "markdown",
   "metadata": {},
   "source": [
    "### Instantiate data_utils class"
   ]
  },
  {
   "cell_type": "code",
   "execution_count": 5,
   "metadata": {},
   "outputs": [],
   "source": [
    "data_path = '/ocean/projects/atm200007p/walrus/for_jerry/train/'\n",
    "grid_path = '/ocean/projects/atm200007p/jlin96/neurips_proj/ClimSim_release/grid_info/ClimSim_low-res_grid-info.nc'\n",
    "norm_path = '/ocean/projects/atm200007p/jlin96/neurips_proj/ClimSim_release/normalizations/'\n",
    "\n",
    "grid_info = xr.open_dataset(grid_path)\n",
    "inp_mean = xr.open_dataset(norm_path + 'inputs/input_mean.nc')\n",
    "inp_max = xr.open_dataset(norm_path + 'inputs/input_max.nc')\n",
    "inp_min = xr.open_dataset(norm_path + 'inputs/input_min.nc')\n",
    "out_scale = xr.open_dataset(norm_path + 'outputs/output_scale.nc')\n",
    "\n",
    "scoring_data = data_utils(data_path = data_path,\n",
    "                          grid_info = grid_info, \n",
    "                          inp_mean = inp_mean, \n",
    "                          inp_max = inp_max, \n",
    "                          inp_min = inp_min, \n",
    "                          out_scale = out_scale)"
   ]
  },
  {
   "cell_type": "code",
   "execution_count": 6,
   "metadata": {},
   "outputs": [],
   "source": [
    "# set inputs and outputs to V1 subset\n",
    "scoring_data.set_to_v1_vars()\n",
    "# load target output\n",
    "scoring_data.target_scoring = np.load(target_path)\n",
    "# set pressure grid\n",
    "scoring_data.set_pressure_grid(x_true)"
   ]
  },
  {
   "cell_type": "markdown",
   "metadata": {},
   "source": [
    "### Load in model predictions"
   ]
  },
  {
   "cell_type": "code",
   "execution_count": 7,
   "metadata": {},
   "outputs": [],
   "source": [
    "cvae_pred_path = '/ocean/projects/atm200007p/shared/neurips_proj/final_metrics/predictions/cVAE/cvae_preds_manual.h5'\n",
    "hsr_pred_path = '/ocean/projects/atm200007p/shared/neurips_proj/final_metrics/predictions/HSR/hsr_preds_bestcrps.h5'\n",
    "rpn_pred_path = '/ocean/projects/atm200007p/jlin96/neurips_proj/figure_ingredients/rpn_pred_v1_stride6.npy'\n",
    "cnn_pred_path = '/ocean/projects/atm200007p/jlin96/neurips_proj/figure_ingredients/val_predict_cnn_reshaped_stride6_FINAL.npy'\n",
    "mlp_pred_path = '/ocean/projects/atm200007p/jlin96/neurips_proj/figure_ingredients/001_backup_phase-7_retrained_models_step2_lot-147_trial_0027.best.h5.npy'"
   ]
  },
  {
   "cell_type": "code",
   "execution_count": 8,
   "metadata": {},
   "outputs": [],
   "source": [
    "scoring_data.model_names = ['cVAE','HSR','RPN','CNN', 'MLP']\n",
    "preds = [scoring_data.load_h5_file(load_path = cvae_pred_path), \n",
    "         scoring_data.load_h5_file(load_path = hsr_pred_path), \n",
    "         scoring_data.load_npy_file(load_path = rpn_pred_path), \n",
    "         scoring_data.load_npy_file(load_path = cnn_pred_path), \n",
    "         scoring_data.load_npy_file(load_path = mlp_pred_path)]\n",
    "scoring_data.preds_scoring = dict(zip(scoring_data.model_names, preds))"
   ]
  },
  {
   "cell_type": "markdown",
   "metadata": {},
   "source": [
    "### Weight and rescale simulation targets"
   ]
  },
  {
   "cell_type": "code",
   "execution_count": 9,
   "metadata": {},
   "outputs": [],
   "source": [
    "targets = scoring_data.output_weighting(y_true)"
   ]
  },
  {
   "cell_type": "markdown",
   "metadata": {},
   "source": [
    "### Weight and rescale model outputs"
   ]
  },
  {
   "cell_type": "code",
   "execution_count": 10,
   "metadata": {},
   "outputs": [],
   "source": [
    "preds_cVAE = scoring_data.output_weighting(scoring_data.preds_scoring['cVAE'])\n",
    "\n",
    "preds_HSR = scoring_data.output_weighting(scoring_data.preds_scoring['HSR'])\n",
    "\n",
    "preds_RPN = scoring_data.output_weighting(scoring_data.preds_scoring['RPN'])\n",
    "\n",
    "preds_CNN = scoring_data.output_weighting(scoring_data.preds_scoring['CNN'])\n",
    "\n",
    "preds_MLP = scoring_data.output_weighting(scoring_data.preds_scoring['MLP'])"
   ]
  },
  {
   "cell_type": "code",
   "execution_count": 11,
   "metadata": {},
   "outputs": [
    {
     "data": {
      "text/plain": [
       "array([2.48810441e-03, 4.99724094e-03, 8.76758175e-03, 1.47557543e-02,\n",
       "       2.30482093e-02, 3.34678148e-02, 5.08360518e-02, 6.79574945e-02,\n",
       "       7.78484613e-02, 9.34334972e-02, 1.10891516e-01, 1.27929635e-01,\n",
       "       1.32231286e-01, 1.45734283e-01, 1.64263233e-01, 1.96093256e-01,\n",
       "       2.47765425e-01, 4.04718618e-01, 7.13249399e-01, 1.05959364e+00,\n",
       "       1.09819824e+00, 1.19503676e+00, 1.35142794e+00, 1.51855179e+00,\n",
       "       1.67193697e+00, 1.83208818e+00, 2.05268240e+00, 2.28865263e+00,\n",
       "       2.45375703e+00, 2.66744006e+00, 2.98282797e+00, 3.28212054e+00,\n",
       "       3.56680301e+00, 3.93279688e+00, 4.31148096e+00, 4.68898232e+00,\n",
       "       5.06267101e+00, 5.44454106e+00, 5.71696143e+00, 5.90012906e+00,\n",
       "       6.00360151e+00, 6.07438613e+00, 6.17479732e+00, 6.16412421e+00,\n",
       "       6.18342603e+00, 6.14224057e+00, 5.98347202e+00, 5.69510284e+00,\n",
       "       5.35002381e+00, 4.89994824e+00, 4.50862157e+00, 4.15251703e+00,\n",
       "       3.82127525e+00, 3.55926722e+00, 3.35267995e+00, 3.19454866e+00,\n",
       "       3.10911842e+00, 3.08636496e+00, 3.17806420e+00, 3.63315983e+00])"
      ]
     },
     "execution_count": 11,
     "metadata": {},
     "output_type": "execute_result"
    }
   ],
   "source": [
    "scoring_data.calc_MAE(preds_MLP['heating'], targets['heating'])"
   ]
  },
  {
   "cell_type": "code",
   "execution_count": null,
   "metadata": {},
   "outputs": [],
   "source": [
    "preds_MLP['heating'].shape"
   ]
  },
  {
   "cell_type": "code",
   "execution_count": null,
   "metadata": {},
   "outputs": [],
   "source": [
    "heating.shape"
   ]
  },
  {
   "cell_type": "code",
   "execution_count": null,
   "metadata": {},
   "outputs": [],
   "source": [
    "heating"
   ]
  },
  {
   "cell_type": "code",
   "execution_count": null,
   "metadata": {},
   "outputs": [],
   "source": [
    "#CRPS paths\n",
    "hsr_path_crps = '/ocean/projects/atm200007p/shared/neurips_proj/final_metrics/predictions/HSR/hsr_samples_bestcrps.h5'\n",
    "cvae_path_crps = '/ocean/projects/atm200007p/shared/neurips_proj/final_metrics/predictions/cvae_samples_bestcrps.h5'\n",
    "rpn_path_crps = '/ocean/projects/atm200007p/shared/neurips_proj/final_metrics/predictions/RPN/samples_test_H_stride_6_all.npy'"
   ]
  },
  {
   "cell_type": "code",
   "execution_count": null,
   "metadata": {},
   "outputs": [],
   "source": [
    "hsr_samples = data_utils.load_h5_file(hsr_path_crps)\n"
   ]
  },
  {
   "cell_type": "code",
   "execution_count": null,
   "metadata": {},
   "outputs": [],
   "source": [
    "cvae_samples = data_utils.load_h5_file(cvae_path_crps)"
   ]
  },
  {
   "cell_type": "code",
   "execution_count": null,
   "metadata": {},
   "outputs": [],
   "source": [
    "rpn_samples = data_utils.load_npy_file(rpn_path_crps)"
   ]
  },
  {
   "cell_type": "code",
   "execution_count": null,
   "metadata": {},
   "outputs": [],
   "source": []
  }
 ],
 "metadata": {
  "kernelspec": {
   "display_name": "Python 3 (ipykernel)",
   "language": "python",
   "name": "python3"
  },
  "language_info": {
   "codemirror_mode": {
    "name": "ipython",
    "version": 3
   },
   "file_extension": ".py",
   "mimetype": "text/x-python",
   "name": "python",
   "nbconvert_exporter": "python",
   "pygments_lexer": "ipython3",
   "version": "3.9.13"
  },
  "orig_nbformat": 4
 },
 "nbformat": 4,
 "nbformat_minor": 2
}
